{
 "cells": [
  {
   "cell_type": "code",
   "execution_count": 22,
   "id": "aeb09d9c",
   "metadata": {},
   "outputs": [],
   "source": [
    "#Import the required library\n",
    "from bs4 import BeautifulSoup"
   ]
  },
  {
   "cell_type": "code",
   "execution_count": 23,
   "id": "19ce3437",
   "metadata": {},
   "outputs": [],
   "source": [
    "#Create employee html document\n",
    "employee_html_doc = \"\"\"<employees>\n",
    "    <employee class = \"accountant\">\n",
    "        <firstName>John</firstName> <lastName>Doe</lastName>\n",
    "    </employee>\n",
    "    <employee class=\"manager\">\n",
    "        <firstName>Anna</firstName> <lastName>Smith</lastName>\n",
    "    </employee>\n",
    "    <employee class=\"developer\">\n",
    "        <firstName>Peter</firstName> <lastName>Jones</lastName>\n",
    "    </employee>\n",
    "</employees>\"\"\""
   ]
  },
  {
   "cell_type": "code",
   "execution_count": 24,
   "id": "1fb1a8c2",
   "metadata": {},
   "outputs": [],
   "source": [
    "#Create soup object\n",
    "soup_emp = BeautifulSoup(employee_html_doc,'html.parser')"
   ]
  },
  {
   "cell_type": "code",
   "execution_count": 25,
   "id": "2b367086",
   "metadata": {},
   "outputs": [
    {
     "data": {
      "text/plain": [
       "<employee class=\"accountant\">\n",
       "<firstname>John</firstname> <lastname>Doe</lastname>\n",
       "</employee>"
      ]
     },
     "execution_count": 25,
     "metadata": {},
     "output_type": "execute_result"
    }
   ],
   "source": [
    "#Access and view the tag\n",
    "tag = soup_emp.employee\n",
    "tag"
   ]
  },
  {
   "cell_type": "code",
   "execution_count": 26,
   "id": "8f3c736b",
   "metadata": {},
   "outputs": [],
   "source": [
    "#Modify the tag\n",
    "tag['class'] = 'Manager'"
   ]
  },
  {
   "cell_type": "code",
   "execution_count": 27,
   "id": "a8fb3275",
   "metadata": {},
   "outputs": [
    {
     "data": {
      "text/plain": [
       "<employee class=\"Manager\">\n",
       "<firstname>John</firstname> <lastname>Doe</lastname>\n",
       "</employee>"
      ]
     },
     "execution_count": 27,
     "metadata": {},
     "output_type": "execute_result"
    }
   ],
   "source": [
    "#View the tag to see the modification\n",
    "tag"
   ]
  },
  {
   "cell_type": "code",
   "execution_count": 28,
   "id": "43fc3760",
   "metadata": {},
   "outputs": [
    {
     "data": {
      "text/plain": [
       "<employees>\n",
       "<employee class=\"Manager\">\n",
       "<firstname>John</firstname> <lastname>Doe</lastname>\n",
       "</employee>\n",
       "<employee class=\"manager\">\n",
       "<firstname>Anna</firstname> <lastname>Smith</lastname>\n",
       "</employee>\n",
       "<employee class=\"developer\">\n",
       "<firstname>Peter</firstname> <lastname>Jones</lastname>\n",
       "</employee>\n",
       "</employees>"
      ]
     },
     "execution_count": 28,
     "metadata": {},
     "output_type": "execute_result"
    }
   ],
   "source": [
    "#View the soup object to verify the modification \n",
    "soup_emp"
   ]
  },
  {
   "cell_type": "code",
   "execution_count": 29,
   "id": "d8961c2a",
   "metadata": {},
   "outputs": [],
   "source": [
    "#Add a new tag\n",
    "tag = soup_emp.new_tag('rank')\n",
    "tag.string = \"Manager 1\""
   ]
  },
  {
   "cell_type": "code",
   "execution_count": 30,
   "id": "1d1799dc",
   "metadata": {},
   "outputs": [],
   "source": [
    "#Modify using insert_after method \n",
    "soup_emp.employees.employee.insert_after(tag)"
   ]
  },
  {
   "cell_type": "code",
   "execution_count": 31,
   "id": "cc79aeda",
   "metadata": {},
   "outputs": [
    {
     "name": "stdout",
     "output_type": "stream",
     "text": [
      "<employees>\n",
      "<employee class=\"Manager\">\n",
      "<firstname>John</firstname> <lastname>Doe</lastname>\n",
      "</employee><rank>Manager 1</rank>\n",
      "<employee class=\"manager\">\n",
      "<firstname>Anna</firstname> <lastname>Smith</lastname>\n",
      "</employee>\n",
      "<employee class=\"developer\">\n",
      "<firstname>Peter</firstname> <lastname>Jones</lastname>\n",
      "</employee>\n",
      "</employees>\n"
     ]
    }
   ],
   "source": [
    "#View the soup object\n",
    "print(soup_emp)"
   ]
  },
  {
   "cell_type": "code",
   "execution_count": 32,
   "id": "c84c2289",
   "metadata": {},
   "outputs": [],
   "source": [
    "#Clear all the modified tag\n",
    "tag.clear()"
   ]
  },
  {
   "cell_type": "code",
   "execution_count": 33,
   "id": "e41af1a3",
   "metadata": {},
   "outputs": [
    {
     "name": "stdout",
     "output_type": "stream",
     "text": [
      "<employees>\n",
      "<employee class=\"Manager\">\n",
      "<firstname>John</firstname> <lastname>Doe</lastname>\n",
      "</employee><rank></rank>\n",
      "<employee class=\"manager\">\n",
      "<firstname>Anna</firstname> <lastname>Smith</lastname>\n",
      "</employee>\n",
      "<employee class=\"developer\">\n",
      "<firstname>Peter</firstname> <lastname>Jones</lastname>\n",
      "</employee>\n",
      "</employees>\n"
     ]
    }
   ],
   "source": [
    "#View the soup object\n",
    "print(soup_emp)"
   ]
  },
  {
   "cell_type": "code",
   "execution_count": 34,
   "id": "c6884227",
   "metadata": {},
   "outputs": [
    {
     "data": {
      "text/plain": [
       "<employee class=\"Manager\">\n",
       "<firstname>John</firstname> <lastname>Doe</lastname>\n",
       "</employee>"
      ]
     },
     "execution_count": 34,
     "metadata": {},
     "output_type": "execute_result"
    }
   ],
   "source": [
    "#Create a tag object and view it\n",
    "\n",
    "tag = soup_emp.employees.employee\n",
    "tag"
   ]
  },
  {
   "cell_type": "code",
   "execution_count": 35,
   "id": "daae851d",
   "metadata": {},
   "outputs": [
    {
     "data": {
      "text/plain": [
       "'John'"
      ]
     },
     "execution_count": 35,
     "metadata": {},
     "output_type": "execute_result"
    }
   ],
   "source": [
    "#Extract the information using extract method\n",
    "tag.firstname.string.extract()"
   ]
  },
  {
   "cell_type": "code",
   "execution_count": 36,
   "id": "fcd05142",
   "metadata": {},
   "outputs": [
    {
     "data": {
      "text/plain": [
       "<firstname></firstname>"
      ]
     },
     "execution_count": 36,
     "metadata": {},
     "output_type": "execute_result"
    }
   ],
   "source": [
    "#Modify the tag name \n",
    "tag.firstname.replace_with('first name')"
   ]
  },
  {
   "cell_type": "code",
   "execution_count": 37,
   "id": "81fa2262",
   "metadata": {},
   "outputs": [
    {
     "data": {
      "text/plain": [
       "<employees>\n",
       "<employee class=\"Manager\">\n",
       "first name <lastname>Doe</lastname>\n",
       "</employee><rank></rank>\n",
       "<employee class=\"manager\">\n",
       "<firstname>Anna</firstname> <lastname>Smith</lastname>\n",
       "</employee>\n",
       "<employee class=\"developer\">\n",
       "<firstname>Peter</firstname> <lastname>Jones</lastname>\n",
       "</employee>\n",
       "</employees>"
      ]
     },
     "execution_count": 37,
     "metadata": {},
     "output_type": "execute_result"
    }
   ],
   "source": [
    "#View the change\n",
    "soup_emp.employees"
   ]
  },
  {
   "cell_type": "code",
   "execution_count": null,
   "id": "95611331",
   "metadata": {},
   "outputs": [],
   "source": []
  }
 ],
 "metadata": {
  "kernelspec": {
   "display_name": "Python 3 (ipykernel)",
   "language": "python",
   "name": "python3"
  },
  "language_info": {
   "codemirror_mode": {
    "name": "ipython",
    "version": 3
   },
   "file_extension": ".py",
   "mimetype": "text/x-python",
   "name": "python",
   "nbconvert_exporter": "python",
   "pygments_lexer": "ipython3",
   "version": "3.9.12"
  }
 },
 "nbformat": 4,
 "nbformat_minor": 5
}
